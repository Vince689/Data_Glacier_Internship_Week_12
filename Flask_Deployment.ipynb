{
 "cells": [
  {
   "cell_type": "code",
   "execution_count": 35,
   "id": "59b28a6f",
   "metadata": {},
   "outputs": [
    {
     "name": "stdout",
     "output_type": "stream",
     "text": [
      "(1215, 115)\n",
      "(1215, 7)\n"
     ]
    }
   ],
   "source": [
    "#import relevant data and split data\n",
    "import pandas as pd\n",
    "from sklearn.model_selection import train_test_split\n",
    "\n",
    "df_modified=pd.read_csv(r'df_modified.csv', engine='python').sample(frac=1).reset_index(drop=True) #cleaned dataset, with some rows (with outliers) removed\n",
    "print(df_modified.shape)\n",
    "data_best = [df_modified[\"Dexa_During_Rx_Y\"] , df_modified[\"Comorb_Encounter_For_Screening_For_Malignant_Neoplasms_Y\"], df_modified[\"Comorb_Encounter_For_Immunization_Y\"] , df_modified[\"Comorb_Encntr_For_General_Exam_W_O_Complaint,_Susp_Or_Reprtd_Dx_Y\"] , df_modified[\"Comorb_Long_Term_Current_Drug_Therapy_Y\"] , df_modified[\"Concom_Viral_Vaccines_Y\"], df_modified[\"Persistency_Flag_Persistent\"]]\n",
    "headers = [\"Dexa_During_Rx_Y\" , \"Comorb_Encounter_For_Screening_For_Malignant_Neoplasms_Y\", \"Comorb_Encounter_For_Immunization_Y\" ,\"Comorb_Encntr_For_General_Exam_W_O_Complaint,_Susp_Or_Reprtd_Dx_Y\" , \"Comorb_Long_Term_Current_Drug_Therapy_Y\" , \"Concom_Viral_Vaccines_Y\", \"Persistency_Flag_Persistent\"]\n",
    "df_best=pd.concat(data_best, axis=1, keys=headers)\n",
    "print(df_best.shape)\n",
    "\n",
    "X=df_best.loc[:,df_best.columns!=\"Persistency_Flag_Persistent\"]\n",
    "y=df_best.loc[:,df_best.columns==\"Persistency_Flag_Persistent\"].values.ravel()\n",
    "X_train, X_test, y_train, y_test=train_test_split(X,y,test_size=0.30,random_state=123) "
   ]
  },
  {
   "cell_type": "code",
   "execution_count": 36,
   "id": "6532601d",
   "metadata": {},
   "outputs": [
    {
     "name": "stderr",
     "output_type": "stream",
     "text": [
      "C:\\Users\\Obiri\\AppData\\Local\\Temp/ipykernel_17660/1708261669.py:26: DeprecationWarning: KerasClassifier is deprecated, use Sci-Keras (https://github.com/adriangb/scikeras) instead.\n",
      "  neural_network_best_model=KerasClassifier(build_fn=create_nn, verbose=0,batch_size=5, epochs=150, #init='uniform', optimizer='adam'\n"
     ]
    },
    {
     "data": {
      "text/plain": [
       "<keras.callbacks.History at 0x1ae4c05f700>"
      ]
     },
     "execution_count": 36,
     "metadata": {},
     "output_type": "execute_result"
    }
   ],
   "source": [
    "#train neural network with the optimal paramters we found\n",
    "\n",
    "from keras.models import Sequential\n",
    "from keras.layers import Dense\n",
    "from keras import metrics\n",
    "from keras.wrappers.scikit_learn import KerasClassifier\n",
    "\n",
    "from keras.models import load_model\n",
    "def load_model():\n",
    "    # loading model\n",
    "    neural_network_best_model = model_from_json(open('neural_network_best_model.json').read())\n",
    "    neural_network_best_model.load_weights('neural_network_best_model.h5')\n",
    "    neural_network_best_model.compile(loss='categorical_crossentropy', optimizer='adam')\n",
    "    return neural_network_best_model\n",
    "\n",
    "def create_nn(optimizer='uniform', init='adam'):\n",
    "    nn = Sequential()\n",
    "    nn.add(Dense(5, input_dim=6, \n",
    "                 activation='relu')) #let's use 2/3 size of input layer + size of output layer for number of nodes\n",
    "    nn.add(Dense(5, activation='relu'))\n",
    "    nn.add(Dense(1, activation='relu'))\n",
    "    nn.compile(loss='binary_crossentropy'#, optimizer='adam', metrics='accuracy'\n",
    "              )\n",
    "    return nn\n",
    "\n",
    "neural_network_best_model=KerasClassifier(build_fn=create_nn, verbose=0,batch_size=5, epochs=150, #init='uniform', optimizer='adam'\n",
    "                     )\n",
    "neural_network_best_model._estimator_type=\"classifier\"\n",
    "neural_network_best_model.fit(X_train,y_train)\n"
   ]
  },
  {
   "cell_type": "code",
   "execution_count": 40,
   "id": "0fd603af",
   "metadata": {},
   "outputs": [],
   "source": [
    "import numpy as np\n",
    "from flask import Flask, request, render_template\n",
    "# from joblib import load\n",
    "\n",
    "app=Flask(__name__)\n",
    "\n",
    "\n",
    "@app.route('/')\n",
    "def home():\n",
    "    return render_template('index.html')\n",
    "@app.route('/predict', methods=['POST'])\n",
    "def predict():\n",
    "    features=[float(x) for x in request.form.values()]\n",
    "    final_features=np.array(features).reshape(1,6)\n",
    "    prediction=neural_network_best_model.predict(final_features)\n",
    "    pred_round=np.round(prediction)[0][0]\n",
    "    \n",
    "    output=\"\"\n",
    "    if pred_round>=1:\n",
    "          output+=\"persistent\"\n",
    "        \n",
    "    else:\n",
    "          output+=\"non-persistent\"\n",
    "       \n",
    "\n",
    "    return(render_template('index.html', prediction_text='This patient is {}'.format(output)                      \n",
    "                              ))\n",
    "if __name__==\"__main__\":\n",
    "    app.run(port=5000, debug=True, use_reloader=False)\n",
    "print(final_features.shape)"
   ]
  },
  {
   "cell_type": "code",
   "execution_count": 41,
   "id": "16f7fedf",
   "metadata": {
    "scrolled": true
   },
   "outputs": [
    {
     "name": "stdout",
     "output_type": "stream",
     "text": [
      "3.9.7\n"
     ]
    }
   ],
   "source": [
    "from platform import python_version\n",
    "\n",
    "print(python_version())"
   ]
  },
  {
   "cell_type": "code",
   "execution_count": 42,
   "id": "abe1c611",
   "metadata": {},
   "outputs": [],
   "source": [
    "#3.9.10 was the other one"
   ]
  },
  {
   "cell_type": "code",
   "execution_count": 43,
   "id": "458aecfa",
   "metadata": {},
   "outputs": [],
   "source": [
    "from notebooktoall.transform import transform_notebook\n",
    "transform_notebook(ipynb_file=\"Flask_Deployment.ipynb\", export_list=[\"html\", \"py\"])"
   ]
  },
  {
   "cell_type": "code",
   "execution_count": 1,
   "id": "4f887325",
   "metadata": {},
   "outputs": [
    {
     "name": "stdout",
     "output_type": "stream",
     "text": [
      "Note: you may need to restart the kernel to use updated packages.\n"
     ]
    }
   ],
   "source": [
    "pip freeze > requirements.txt"
   ]
  },
  {
   "cell_type": "code",
   "execution_count": null,
   "id": "0106acdf",
   "metadata": {},
   "outputs": [],
   "source": []
  }
 ],
 "metadata": {
  "kernelspec": {
   "display_name": "Python 3 (ipykernel)",
   "language": "python",
   "name": "python3"
  },
  "language_info": {
   "codemirror_mode": {
    "name": "ipython",
    "version": 3
   },
   "file_extension": ".py",
   "mimetype": "text/x-python",
   "name": "python",
   "nbconvert_exporter": "python",
   "pygments_lexer": "ipython3",
   "version": "3.9.7"
  }
 },
 "nbformat": 4,
 "nbformat_minor": 5
}
